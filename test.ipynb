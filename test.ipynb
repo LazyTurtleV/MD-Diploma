{
 "cells": [
  {
   "cell_type": "code",
   "execution_count": 1,
   "metadata": {},
   "outputs": [
    {
     "data": {
      "text/plain": [
       "['Defaulting to user installation because normal site-packages is not writeable',\n",
       " 'Requirement already satisfied: plotly in c:\\\\users\\\\savin\\\\appdata\\\\local\\\\packages\\\\pythonsoftwarefoundation.python.3.12_qbz5n2kfra8p0\\\\localcache\\\\local-packages\\\\python312\\\\site-packages (5.23.0)',\n",
       " 'Requirement already satisfied: tenacity>=6.2.0 in c:\\\\users\\\\savin\\\\appdata\\\\local\\\\packages\\\\pythonsoftwarefoundation.python.3.12_qbz5n2kfra8p0\\\\localcache\\\\local-packages\\\\python312\\\\site-packages (from plotly) (9.0.0)',\n",
       " 'Requirement already satisfied: packaging in c:\\\\users\\\\savin\\\\appdata\\\\local\\\\packages\\\\pythonsoftwarefoundation.python.3.12_qbz5n2kfra8p0\\\\localcache\\\\local-packages\\\\python312\\\\site-packages (from plotly) (24.1)',\n",
       " '',\n",
       " '[notice] A new release of pip is available: 24.1.1 -> 24.2',\n",
       " '[notice] To update, run: C:\\\\Users\\\\Savin\\\\AppData\\\\Local\\\\Microsoft\\\\WindowsApps\\\\PythonSoftwareFoundation.Python.3.12_qbz5n2kfra8p0\\\\python.exe -m pip install --upgrade pip']"
      ]
     },
     "execution_count": 1,
     "metadata": {},
     "output_type": "execute_result"
    }
   ],
   "source": [
    "!!pip install plotly"
   ]
  },
  {
   "cell_type": "code",
   "execution_count": 2,
   "metadata": {},
   "outputs": [],
   "source": [
    "import numpy as np\n",
    "import plotly.graph_objs as go\n",
    "import plotly.io as pio\n",
    "\n",
    "# Set default render to browser (you can change this depending on your environment)\n",
    "pio.renderers.default = 'browser'\n",
    "\n",
    "# Generate data\n",
    "x = np.linspace(-5, 5, 100)\n",
    "y = np.linspace(-5, 5, 100)\n",
    "x, y = np.meshgrid(x, y)\n",
    "z = np.sin(np.sqrt(x**2 + y**2))\n",
    "\n",
    "# Create a surface plot\n",
    "surface = go.Surface(z=z, x=x, y=y)\n",
    "\n",
    "# Layout settings\n",
    "layout = go.Layout(\n",
    "    title='Interactive Surface Plot',\n",
    "    scene=dict(\n",
    "        xaxis_title='X Axis',\n",
    "        yaxis_title='Y Axis',\n",
    "        zaxis_title='Z Axis'\n",
    "    )\n",
    ")\n",
    "\n",
    "# Create the figure\n",
    "fig = go.Figure(data=[surface], layout=layout)\n",
    "\n",
    "# Show the plot\n",
    "fig.show()\n"
   ]
  }
 ],
 "metadata": {
  "kernelspec": {
   "display_name": "Python 3",
   "language": "python",
   "name": "python3"
  },
  "language_info": {
   "codemirror_mode": {
    "name": "ipython",
    "version": 3
   },
   "file_extension": ".py",
   "mimetype": "text/x-python",
   "name": "python",
   "nbconvert_exporter": "python",
   "pygments_lexer": "ipython3",
   "version": "3.12.5"
  }
 },
 "nbformat": 4,
 "nbformat_minor": 2
}
